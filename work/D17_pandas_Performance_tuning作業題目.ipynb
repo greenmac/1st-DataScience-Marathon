{
 "metadata": {
  "language_info": {
   "codemirror_mode": {
    "name": "ipython",
    "version": 3
   },
   "file_extension": ".py",
   "mimetype": "text/x-python",
   "name": "python",
   "nbconvert_exporter": "python",
   "pygments_lexer": "ipython3",
   "version": 3
  },
  "orig_nbformat": 2
 },
 "nbformat": 4,
 "nbformat_minor": 2,
 "cells": [
  {
   "source": [
    "\n",
    "1.問:在速度較慢的時候，可以先從哪邊開始檢查?\n",
    "\n",
    "1.答:更改文件格式，pkl最快；xlsx最慢。使用pandas內建函數。"
   ],
   "cell_type": "markdown",
   "metadata": {}
  },
  {
   "source": [
    "2.問:資料過大時應採取什麼方式讓記憶體占用量下降?!\n",
    "\n",
    "2.答:更改數值型態，例如float64=>float32；int64=>int32"
   ],
   "cell_type": "markdown",
   "metadata": {}
  },
  {
   "cell_type": "code",
   "execution_count": null,
   "metadata": {},
   "outputs": [],
   "source": []
  }
 ]
}