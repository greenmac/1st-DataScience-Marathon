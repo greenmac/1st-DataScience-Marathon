{
  "nbformat": 4,
  "nbformat_minor": 0,
  "metadata": {
    "colab": {
      "name": "ABTestExercise_作業.ipynb",
      "provenance": [],
      "toc_visible": true
    },
    "kernelspec": {
      "name": "python389jvsc74a57bd0a0f52ed0f4eea450af6b098fad225a142fb05d1d34ad2fe5c58f4a068d1ed653",
      "display_name": "Python 3.8.9 64-bit"
    },
    "metadata": {
      "interpreter": {
        "hash": "a0f52ed0f4eea450af6b098fad225a142fb05d1d34ad2fe5c58f4a068d1ed653"
      }
    }
  },
  "cells": [
    {
      "cell_type": "markdown",
      "metadata": {
        "id": "CUUk4M9ESPiL"
      },
      "source": [
        "# **[作業]電商如何以A/B Test 驗證新網頁設計有效**\n",
        "## **Can eCommerce UX change boost the conversion rate from 0.13 to 0.15?**\n",
        "知識點:\n",
        "\n",
        "*   effect size\n",
        "*   sample size for A/B test \n",
        "*   type I error = 0.05 and Power= 0.8\n",
        "*   z-score, confidence interval\n",
        "\n",
        "參考：A/B testing: A step-by-step guide in Python by Renato Fillinich @ medium.com\n",
        "\n",
        "數據 : ab_data.csv from Kaggle"
      ]
    },
    {
      "cell_type": "markdown",
      "metadata": {
        "id": "_CFV1buAeAMz"
      },
      "source": [
        "# **[作業目標]**\n",
        "\n",
        "1.   了解Binomial分布，以及用常態分布求統計解的方法\n",
        "2.   判讀A/B Test 結果\n",
        "\n"
      ]
    },
    {
      "cell_type": "markdown",
      "metadata": {
        "id": "19cuAxsOeI3k"
      },
      "source": [
        "# **[作業重點]**\n",
        "\n",
        "\n",
        "\n",
        "1.   如何決定最小樣本數\n",
        "2.   如何以Z值，p-Value和信賴區間(Confidence Interval)判斷A/B結果是否顯著\n",
        "\n"
      ]
    },
    {
      "cell_type": "code",
      "metadata": {
        "colab": {
          "base_uri": "https://localhost:8080/"
        },
        "id": "b5pbmX1PCiUD",
        "outputId": "523d70e1-293c-4d36-bfc1-2acfcf4d6f1e"
      },
      "source": [
        "# Packages imports\n",
        "# \n",
        "import numpy as np\n",
        "import pandas as pd\n",
        "import scipy.stats as stats\n",
        "import statsmodels.stats.api as sms\n",
        "import matplotlib as mpl\n",
        "import matplotlib.pyplot as plt\n",
        "import seaborn as sns\n",
        "from math import ceil\n",
        "\n",
        "%matplotlib inline\n",
        "\n",
        "# Some plot styling preferences\n",
        "plt.style.use('seaborn-whitegrid')\n",
        "font = {'family' : 'Helvetica',\n",
        "        'weight' : 'bold',\n",
        "        'size'   : 14}\n",
        "\n",
        "mpl.rc('font', **font)\n",
        "\n",
        "#求樣本大小\n",
        "effect_size = sms.proportion_effectsize(0.13, 0.15)    # Calculating effect size based on our expected rates\n",
        "\n",
        "required_n = sms.NormalIndPower().solve_power(\n",
        "    effect_size, \n",
        "    power=0.8, \n",
        "    alpha=0.05, \n",
        "    ratio=1\n",
        "    )                                                  # Calculating sample size needed\n",
        "\n",
        "required_n = ceil(required_n)                          # Rounding up to next whole number                          \n",
        "\n",
        "print(required_n)"
      ],
      "execution_count": 1,
      "outputs": [
        {
          "output_type": "stream",
          "name": "stdout",
          "text": [
            "4720\n"
          ]
        }
      ]
    },
    {
      "cell_type": "code",
      "metadata": {
        "colab": {
          "base_uri": "https://localhost:8080/",
          "height": 198
        },
        "id": "NzCIP30MEIWw",
        "outputId": "0fac92d3-76f1-4ad2-c881-a944e20b74eb"
      },
      "source": [
        "#展示實驗資料\n",
        "df = pd.read_csv('../data/ab_data.csv')\n",
        "\n",
        "df.head()"
      ],
      "execution_count": 3,
      "outputs": [
        {
          "output_type": "execute_result",
          "data": {
            "text/plain": [
              "   user_id                   timestamp      group landing_page  converted\n",
              "0   851104  2017-01-21 22:11:48.556739    control     old_page          0\n",
              "1   804228  2017-01-12 08:01:45.159739    control     old_page          0\n",
              "2   661590  2017-01-11 16:55:06.154213  treatment     new_page          0\n",
              "3   853541  2017-01-08 18:28:03.143765  treatment     new_page          0\n",
              "4   864975  2017-01-21 01:52:26.210827    control     old_page          1"
            ],
            "text/html": "<div>\n<style scoped>\n    .dataframe tbody tr th:only-of-type {\n        vertical-align: middle;\n    }\n\n    .dataframe tbody tr th {\n        vertical-align: top;\n    }\n\n    .dataframe thead th {\n        text-align: right;\n    }\n</style>\n<table border=\"1\" class=\"dataframe\">\n  <thead>\n    <tr style=\"text-align: right;\">\n      <th></th>\n      <th>user_id</th>\n      <th>timestamp</th>\n      <th>group</th>\n      <th>landing_page</th>\n      <th>converted</th>\n    </tr>\n  </thead>\n  <tbody>\n    <tr>\n      <th>0</th>\n      <td>851104</td>\n      <td>2017-01-21 22:11:48.556739</td>\n      <td>control</td>\n      <td>old_page</td>\n      <td>0</td>\n    </tr>\n    <tr>\n      <th>1</th>\n      <td>804228</td>\n      <td>2017-01-12 08:01:45.159739</td>\n      <td>control</td>\n      <td>old_page</td>\n      <td>0</td>\n    </tr>\n    <tr>\n      <th>2</th>\n      <td>661590</td>\n      <td>2017-01-11 16:55:06.154213</td>\n      <td>treatment</td>\n      <td>new_page</td>\n      <td>0</td>\n    </tr>\n    <tr>\n      <th>3</th>\n      <td>853541</td>\n      <td>2017-01-08 18:28:03.143765</td>\n      <td>treatment</td>\n      <td>new_page</td>\n      <td>0</td>\n    </tr>\n    <tr>\n      <th>4</th>\n      <td>864975</td>\n      <td>2017-01-21 01:52:26.210827</td>\n      <td>control</td>\n      <td>old_page</td>\n      <td>1</td>\n    </tr>\n  </tbody>\n</table>\n</div>"
          },
          "metadata": {},
          "execution_count": 3
        }
      ]
    },
    {
      "cell_type": "code",
      "metadata": {
        "colab": {
          "base_uri": "https://localhost:8080/",
          "height": 345
        },
        "id": "i1FXBm0sEMz4",
        "outputId": "f954c865-9cbf-453b-918b-e41685189926"
      },
      "source": [
        "df.info()\n",
        "\n",
        "# To make sure all the control group are seeing the old page and viceversa\n",
        "# 用 crosstab 將 landing_page 當作 column，group 當作 row\n",
        "pd.crosstab(df['group'], df['landing_page'])"
      ],
      "execution_count": 4,
      "outputs": [
        {
          "output_type": "stream",
          "name": "stdout",
          "text": [
            "<class 'pandas.core.frame.DataFrame'>\nRangeIndex: 294478 entries, 0 to 294477\nData columns (total 5 columns):\n #   Column        Non-Null Count   Dtype \n---  ------        --------------   ----- \n 0   user_id       294478 non-null  int64 \n 1   timestamp     294478 non-null  object\n 2   group         294478 non-null  object\n 3   landing_page  294478 non-null  object\n 4   converted     294478 non-null  int64 \ndtypes: int64(2), object(3)\nmemory usage: 11.2+ MB\n"
          ]
        },
        {
          "output_type": "execute_result",
          "data": {
            "text/plain": [
              "landing_page  new_page  old_page\n",
              "group                           \n",
              "control           1928    145274\n",
              "treatment       145311      1965"
            ],
            "text/html": "<div>\n<style scoped>\n    .dataframe tbody tr th:only-of-type {\n        vertical-align: middle;\n    }\n\n    .dataframe tbody tr th {\n        vertical-align: top;\n    }\n\n    .dataframe thead th {\n        text-align: right;\n    }\n</style>\n<table border=\"1\" class=\"dataframe\">\n  <thead>\n    <tr style=\"text-align: right;\">\n      <th>landing_page</th>\n      <th>new_page</th>\n      <th>old_page</th>\n    </tr>\n    <tr>\n      <th>group</th>\n      <th></th>\n      <th></th>\n    </tr>\n  </thead>\n  <tbody>\n    <tr>\n      <th>control</th>\n      <td>1928</td>\n      <td>145274</td>\n    </tr>\n    <tr>\n      <th>treatment</th>\n      <td>145311</td>\n      <td>1965</td>\n    </tr>\n  </tbody>\n</table>\n</div>"
          },
          "metadata": {},
          "execution_count": 4
        }
      ]
    },
    {
      "cell_type": "code",
      "metadata": {
        "colab": {
          "base_uri": "https://localhost:8080/"
        },
        "id": "smK1d9OoEQ4c",
        "outputId": "aaf70cfa-c9cf-46b3-e10b-186bce4e13b9"
      },
      "source": [
        "#偵測重複出現使用者\n",
        "session_counts = df['user_id'].value_counts(ascending=False)\n",
        "multi_users = session_counts[session_counts > 1]\n",
        "print(f'There are {multi_users} users that appear multiple times in the dataset')"
      ],
      "execution_count": 17,
      "outputs": [
        {
          "output_type": "stream",
          "name": "stdout",
          "text": [
            "There are Series([], Name: user_id, dtype: int64) users that appear multiple times in the dataset\n"
          ]
        }
      ]
    },
    {
      "cell_type": "code",
      "metadata": {
        "colab": {
          "base_uri": "https://localhost:8080/"
        },
        "id": "1Iu-jUPxEUFX",
        "outputId": "fe577125-b873-4c10-bf70-c7199b1f57ce"
      },
      "source": [
        "#除去重複出現使用者\n",
        "users_to_drop = session_counts[session_counts > 1].index\n",
        "df = df[~df['user_id'].isin(users_to_drop)]\n",
        "print(f'The updated dataset now has {df.shape[0]} entries')"
      ],
      "execution_count": 20,
      "outputs": [
        {
          "output_type": "stream",
          "name": "stdout",
          "text": [
            "The updated dataset now has 286690 entries\n"
          ]
        }
      ]
    },
    {
      "cell_type": "code",
      "metadata": {
        "colab": {
          "base_uri": "https://localhost:8080/",
          "height": 408
        },
        "id": "gOh_R80CEYVs",
        "outputId": "47915ff9-eaa4-4f59-eb5d-e941be57d61d"
      },
      "source": [
        "#選取 控制組和實驗組各半 4720 * 2 = 9440\n",
        "control_sample = df[df['group'] == 'control'].sample(n=required_n, random_state=22)\n",
        "treatment_sample = df[df['group'] == 'treatment'].sample(n=required_n, random_state=22)\n",
        "\n",
        "ab_test = pd.concat([control_sample, treatment_sample], axis=0)\n",
        "ab_test.reset_index(drop=True, inplace=True)\n",
        "ab_test"
      ],
      "execution_count": 21,
      "outputs": [
        {
          "output_type": "execute_result",
          "data": {
            "text/plain": [
              "      user_id                   timestamp      group landing_page  converted\n",
              "0      763854  2017-01-21 03:43:17.188315    control     old_page          0\n",
              "1      690555  2017-01-18 06:38:13.079449    control     old_page          0\n",
              "2      861520  2017-01-06 21:13:40.044766    control     old_page          0\n",
              "3      630778  2017-01-05 16:42:36.995204    control     old_page          0\n",
              "4      656634  2017-01-04 15:31:21.676130    control     old_page          0\n",
              "...       ...                         ...        ...          ...        ...\n",
              "9435   908512  2017-01-14 22:02:29.922674  treatment     new_page          0\n",
              "9436   873211  2017-01-05 00:57:16.167151  treatment     new_page          0\n",
              "9437   631276  2017-01-20 18:56:58.167809  treatment     new_page          0\n",
              "9438   662301  2017-01-03 08:10:57.768806  treatment     new_page          0\n",
              "9439   944623  2017-01-19 10:56:01.648653  treatment     new_page          1\n",
              "\n",
              "[9440 rows x 5 columns]"
            ],
            "text/html": "<div>\n<style scoped>\n    .dataframe tbody tr th:only-of-type {\n        vertical-align: middle;\n    }\n\n    .dataframe tbody tr th {\n        vertical-align: top;\n    }\n\n    .dataframe thead th {\n        text-align: right;\n    }\n</style>\n<table border=\"1\" class=\"dataframe\">\n  <thead>\n    <tr style=\"text-align: right;\">\n      <th></th>\n      <th>user_id</th>\n      <th>timestamp</th>\n      <th>group</th>\n      <th>landing_page</th>\n      <th>converted</th>\n    </tr>\n  </thead>\n  <tbody>\n    <tr>\n      <th>0</th>\n      <td>763854</td>\n      <td>2017-01-21 03:43:17.188315</td>\n      <td>control</td>\n      <td>old_page</td>\n      <td>0</td>\n    </tr>\n    <tr>\n      <th>1</th>\n      <td>690555</td>\n      <td>2017-01-18 06:38:13.079449</td>\n      <td>control</td>\n      <td>old_page</td>\n      <td>0</td>\n    </tr>\n    <tr>\n      <th>2</th>\n      <td>861520</td>\n      <td>2017-01-06 21:13:40.044766</td>\n      <td>control</td>\n      <td>old_page</td>\n      <td>0</td>\n    </tr>\n    <tr>\n      <th>3</th>\n      <td>630778</td>\n      <td>2017-01-05 16:42:36.995204</td>\n      <td>control</td>\n      <td>old_page</td>\n      <td>0</td>\n    </tr>\n    <tr>\n      <th>4</th>\n      <td>656634</td>\n      <td>2017-01-04 15:31:21.676130</td>\n      <td>control</td>\n      <td>old_page</td>\n      <td>0</td>\n    </tr>\n    <tr>\n      <th>...</th>\n      <td>...</td>\n      <td>...</td>\n      <td>...</td>\n      <td>...</td>\n      <td>...</td>\n    </tr>\n    <tr>\n      <th>9435</th>\n      <td>908512</td>\n      <td>2017-01-14 22:02:29.922674</td>\n      <td>treatment</td>\n      <td>new_page</td>\n      <td>0</td>\n    </tr>\n    <tr>\n      <th>9436</th>\n      <td>873211</td>\n      <td>2017-01-05 00:57:16.167151</td>\n      <td>treatment</td>\n      <td>new_page</td>\n      <td>0</td>\n    </tr>\n    <tr>\n      <th>9437</th>\n      <td>631276</td>\n      <td>2017-01-20 18:56:58.167809</td>\n      <td>treatment</td>\n      <td>new_page</td>\n      <td>0</td>\n    </tr>\n    <tr>\n      <th>9438</th>\n      <td>662301</td>\n      <td>2017-01-03 08:10:57.768806</td>\n      <td>treatment</td>\n      <td>new_page</td>\n      <td>0</td>\n    </tr>\n    <tr>\n      <th>9439</th>\n      <td>944623</td>\n      <td>2017-01-19 10:56:01.648653</td>\n      <td>treatment</td>\n      <td>new_page</td>\n      <td>1</td>\n    </tr>\n  </tbody>\n</table>\n<p>9440 rows × 5 columns</p>\n</div>"
          },
          "metadata": {},
          "execution_count": 21
        }
      ]
    },
    {
      "cell_type": "code",
      "metadata": {
        "colab": {
          "base_uri": "https://localhost:8080/"
        },
        "id": "I0DU6C8uEbbZ",
        "outputId": "213e691f-a140-4ac0-e615-ff5e28b6396e"
      },
      "source": [
        "ab_test.info()"
      ],
      "execution_count": 22,
      "outputs": [
        {
          "output_type": "stream",
          "name": "stdout",
          "text": [
            "<class 'pandas.core.frame.DataFrame'>\nRangeIndex: 9440 entries, 0 to 9439\nData columns (total 5 columns):\n #   Column        Non-Null Count  Dtype \n---  ------        --------------  ----- \n 0   user_id       9440 non-null   int64 \n 1   timestamp     9440 non-null   object\n 2   group         9440 non-null   object\n 3   landing_page  9440 non-null   object\n 4   converted     9440 non-null   int64 \ndtypes: int64(2), object(3)\nmemory usage: 368.9+ KB\n"
          ]
        }
      ]
    },
    {
      "cell_type": "code",
      "metadata": {
        "id": "viU4ZRx6W3Yh",
        "colab": {
          "base_uri": "https://localhost:8080/"
        },
        "outputId": "6a47ab36-3255-4888-92e4-25fdbd166a7f"
      },
      "source": [
        "#確認 ab_test 控制組實驗組各半\n",
        "ab_test['group'].value_counts()"
      ],
      "execution_count": 23,
      "outputs": [
        {
          "output_type": "execute_result",
          "data": {
            "text/plain": [
              "control      4720\n",
              "treatment    4720\n",
              "Name: group, dtype: int64"
            ]
          },
          "metadata": {},
          "execution_count": 23
        }
      ]
    },
    {
      "cell_type": "code",
      "metadata": {
        "colab": {
          "base_uri": "https://localhost:8080/",
          "height": 101
        },
        "id": "ewFAGIwMEfJJ",
        "outputId": "081f4f2a-d31e-4fd7-bcf0-6a57389d02fd"
      },
      "source": [
        "#計算conversion rate 平均值，標準差，標準誤\n",
        "conversion_rates = ab_test.groupby('group')['converted']\n",
        "\n",
        "std_p = lambda x: np.std(x, ddof=0)              # Std. deviation of the proportion\n",
        "se_p = lambda x: stats.sem(x, ddof=0)            # Std. error of the proportion (std / sqrt(n))\n",
        "\n",
        "conversion_rates = conversion_rates.agg([np.mean, std_p, se_p])\n",
        "conversion_rates.columns = ['conversion_rate', 'std_deviation', 'std_error']\n",
        "\n",
        "\n",
        "conversion_rates.style.format('{:.3f}')"
      ],
      "execution_count": 24,
      "outputs": [
        {
          "output_type": "execute_result",
          "data": {
            "text/plain": [
              "<pandas.io.formats.style.Styler at 0x1f93cbdc550>"
            ],
            "text/html": "<style  type=\"text/css\" >\n</style><table id=\"T_b9145_\" ><thead>    <tr>        <th class=\"blank level0\" ></th>        <th class=\"col_heading level0 col0\" >conversion_rate</th>        <th class=\"col_heading level0 col1\" >std_deviation</th>        <th class=\"col_heading level0 col2\" >std_error</th>    </tr>    <tr>        <th class=\"index_name level0\" >group</th>        <th class=\"blank\" ></th>        <th class=\"blank\" ></th>        <th class=\"blank\" ></th>    </tr></thead><tbody>\n                <tr>\n                        <th id=\"T_b9145_level0_row0\" class=\"row_heading level0 row0\" >control</th>\n                        <td id=\"T_b9145_row0_col0\" class=\"data row0 col0\" >0.123</td>\n                        <td id=\"T_b9145_row0_col1\" class=\"data row0 col1\" >0.329</td>\n                        <td id=\"T_b9145_row0_col2\" class=\"data row0 col2\" >0.005</td>\n            </tr>\n            <tr>\n                        <th id=\"T_b9145_level0_row1\" class=\"row_heading level0 row1\" >treatment</th>\n                        <td id=\"T_b9145_row1_col0\" class=\"data row1 col0\" >0.126</td>\n                        <td id=\"T_b9145_row1_col1\" class=\"data row1 col1\" >0.331</td>\n                        <td id=\"T_b9145_row1_col2\" class=\"data row1 col2\" >0.005</td>\n            </tr>\n    </tbody></table>"
          },
          "metadata": {},
          "execution_count": 24
        }
      ]
    },
    {
      "cell_type": "code",
      "metadata": {
        "colab": {
          "base_uri": "https://localhost:8080/",
          "height": 478
        },
        "id": "IVM21KkUEitI",
        "outputId": "a980c634-be8e-4c2f-ff32-f57c59a78047"
      },
      "source": [
        "#繪出 conversion rate 棒狀圖\n",
        "plt.figure(figsize=(8,6))\n",
        "\n",
        "sns.barplot(x=ab_test['group'], y=ab_test['converted'], ci=False)\n",
        "\n",
        "plt.ylim(0, 0.17)\n",
        "plt.title('Conversion rate by group', pad=20)\n",
        "plt.xlabel('Group', labelpad=15)\n",
        "plt.ylabel('Converted (proportion)', labelpad=15);"
      ],
      "execution_count": 25,
      "outputs": [
        {
          "output_type": "stream",
          "name": "stderr",
          "text": [
            "findfont: Font family ['Helvetica'] not found. Falling back to DejaVu Sans.\n",
            "findfont: Font family ['Helvetica'] not found. Falling back to DejaVu Sans.\n",
            "findfont: Font family ['Helvetica'] not found. Falling back to DejaVu Sans.\n"
          ]
        },
        {
          "output_type": "display_data",
          "data": {
            "text/plain": "<Figure size 576x432 with 1 Axes>",
            "image/svg+xml": "<?xml version=\"1.0\" encoding=\"utf-8\" standalone=\"no\"?>\r\n<!DOCTYPE svg PUBLIC \"-//W3C//DTD SVG 1.1//EN\"\r\n  \"http://www.w3.org/Graphics/SVG/1.1/DTD/svg11.dtd\">\r\n<svg height=\"418.924125pt\" version=\"1.1\" viewBox=\"0 0 527.39 418.924125\" width=\"527.39pt\" xmlns=\"http://www.w3.org/2000/svg\" xmlns:xlink=\"http://www.w3.org/1999/xlink\">\r\n <metadata>\r\n  <rdf:RDF xmlns:cc=\"http://creativecommons.org/ns#\" xmlns:dc=\"http://purl.org/dc/elements/1.1/\" xmlns:rdf=\"http://www.w3.org/1999/02/22-rdf-syntax-ns#\">\r\n   <cc:Work>\r\n    <dc:type rdf:resource=\"http://purl.org/dc/dcmitype/StillImage\"/>\r\n    <dc:date>2021-04-27T11:38:06.347895</dc:date>\r\n    <dc:format>image/svg+xml</dc:format>\r\n    <dc:creator>\r\n     <cc:Agent>\r\n      <dc:title>Matplotlib v3.4.1, https://matplotlib.org/</dc:title>\r\n     </cc:Agent>\r\n    </dc:creator>\r\n   </cc:Work>\r\n  </rdf:RDF>\r\n </metadata>\r\n <defs>\r\n  <style type=\"text/css\">*{stroke-linecap:butt;stroke-linejoin:round;}</style>\r\n </defs>\r\n <g id=\"figure_1\">\r\n  <g id=\"patch_1\">\r\n   <path d=\"M 0 418.924125 \r\nL 527.39 418.924125 \r\nL 527.39 0 \r\nL 0 0 \r\nz\r\n\" style=\"fill:#ffffff;\"/>\r\n  </g>\r\n  <g id=\"axes_1\">\r\n   <g id=\"patch_2\">\r\n    <path d=\"M 73.79 366.125375 \r\nL 520.19 366.125375 \r\nL 520.19 39.965375 \r\nL 73.79 39.965375 \r\nz\r\n\" style=\"fill:#ffffff;\"/>\r\n   </g>\r\n   <g id=\"matplotlib.axis_1\">\r\n    <g id=\"xtick_1\">\r\n     <g id=\"line2d_1\"/>\r\n     <g id=\"text_1\">\r\n      <!-- control -->\r\n      <g style=\"fill:#262626;\" transform=\"translate(157.441406 380.263187)scale(0.14 -0.14)\">\r\n       <defs>\r\n        <path d=\"M 3366 3391 \r\nL 3366 2478 \r\nQ 3138 2634 2908 2709 \r\nQ 2678 2784 2431 2784 \r\nQ 1963 2784 1702 2511 \r\nQ 1441 2238 1441 1747 \r\nQ 1441 1256 1702 982 \r\nQ 1963 709 2431 709 \r\nQ 2694 709 2930 787 \r\nQ 3166 866 3366 1019 \r\nL 3366 103 \r\nQ 3103 6 2833 -42 \r\nQ 2563 -91 2291 -91 \r\nQ 1344 -91 809 395 \r\nQ 275 881 275 1747 \r\nQ 275 2613 809 3098 \r\nQ 1344 3584 2291 3584 \r\nQ 2566 3584 2833 3536 \r\nQ 3100 3488 3366 3391 \r\nz\r\n\" id=\"DejaVuSans-Bold-63\" transform=\"scale(0.015625)\"/>\r\n        <path d=\"M 2203 2784 \r\nQ 1831 2784 1636 2517 \r\nQ 1441 2250 1441 1747 \r\nQ 1441 1244 1636 976 \r\nQ 1831 709 2203 709 \r\nQ 2569 709 2762 976 \r\nQ 2956 1244 2956 1747 \r\nQ 2956 2250 2762 2517 \r\nQ 2569 2784 2203 2784 \r\nz\r\nM 2203 3584 \r\nQ 3106 3584 3614 3096 \r\nQ 4122 2609 4122 1747 \r\nQ 4122 884 3614 396 \r\nQ 3106 -91 2203 -91 \r\nQ 1297 -91 786 396 \r\nQ 275 884 275 1747 \r\nQ 275 2609 786 3096 \r\nQ 1297 3584 2203 3584 \r\nz\r\n\" id=\"DejaVuSans-Bold-6f\" transform=\"scale(0.015625)\"/>\r\n        <path d=\"M 4056 2131 \r\nL 4056 0 \r\nL 2931 0 \r\nL 2931 347 \r\nL 2931 1631 \r\nQ 2931 2084 2911 2256 \r\nQ 2891 2428 2841 2509 \r\nQ 2775 2619 2662 2680 \r\nQ 2550 2741 2406 2741 \r\nQ 2056 2741 1856 2470 \r\nQ 1656 2200 1656 1722 \r\nL 1656 0 \r\nL 538 0 \r\nL 538 3500 \r\nL 1656 3500 \r\nL 1656 2988 \r\nQ 1909 3294 2193 3439 \r\nQ 2478 3584 2822 3584 \r\nQ 3428 3584 3742 3212 \r\nQ 4056 2841 4056 2131 \r\nz\r\n\" id=\"DejaVuSans-Bold-6e\" transform=\"scale(0.015625)\"/>\r\n        <path d=\"M 1759 4494 \r\nL 1759 3500 \r\nL 2913 3500 \r\nL 2913 2700 \r\nL 1759 2700 \r\nL 1759 1216 \r\nQ 1759 972 1856 886 \r\nQ 1953 800 2241 800 \r\nL 2816 800 \r\nL 2816 0 \r\nL 1856 0 \r\nQ 1194 0 917 276 \r\nQ 641 553 641 1216 \r\nL 641 2700 \r\nL 84 2700 \r\nL 84 3500 \r\nL 641 3500 \r\nL 641 4494 \r\nL 1759 4494 \r\nz\r\n\" id=\"DejaVuSans-Bold-74\" transform=\"scale(0.015625)\"/>\r\n        <path d=\"M 3138 2547 \r\nQ 2991 2616 2845 2648 \r\nQ 2700 2681 2553 2681 \r\nQ 2122 2681 1889 2404 \r\nQ 1656 2128 1656 1613 \r\nL 1656 0 \r\nL 538 0 \r\nL 538 3500 \r\nL 1656 3500 \r\nL 1656 2925 \r\nQ 1872 3269 2151 3426 \r\nQ 2431 3584 2822 3584 \r\nQ 2878 3584 2943 3579 \r\nQ 3009 3575 3134 3559 \r\nL 3138 2547 \r\nz\r\n\" id=\"DejaVuSans-Bold-72\" transform=\"scale(0.015625)\"/>\r\n        <path d=\"M 538 4863 \r\nL 1656 4863 \r\nL 1656 0 \r\nL 538 0 \r\nL 538 4863 \r\nz\r\n\" id=\"DejaVuSans-Bold-6c\" transform=\"scale(0.015625)\"/>\r\n       </defs>\r\n       <use xlink:href=\"#DejaVuSans-Bold-63\"/>\r\n       <use x=\"59.277344\" xlink:href=\"#DejaVuSans-Bold-6f\"/>\r\n       <use x=\"127.978516\" xlink:href=\"#DejaVuSans-Bold-6e\"/>\r\n       <use x=\"199.169922\" xlink:href=\"#DejaVuSans-Bold-74\"/>\r\n       <use x=\"246.972656\" xlink:href=\"#DejaVuSans-Bold-72\"/>\r\n       <use x=\"296.289062\" xlink:href=\"#DejaVuSans-Bold-6f\"/>\r\n       <use x=\"364.990234\" xlink:href=\"#DejaVuSans-Bold-6c\"/>\r\n      </g>\r\n     </g>\r\n    </g>\r\n    <g id=\"xtick_2\">\r\n     <g id=\"line2d_2\"/>\r\n     <g id=\"text_2\">\r\n      <!-- treatment -->\r\n      <g style=\"fill:#262626;\" transform=\"translate(368.603594 380.263187)scale(0.14 -0.14)\">\r\n       <defs>\r\n        <path d=\"M 4031 1759 \r\nL 4031 1441 \r\nL 1416 1441 \r\nQ 1456 1047 1700 850 \r\nQ 1944 653 2381 653 \r\nQ 2734 653 3104 758 \r\nQ 3475 863 3866 1075 \r\nL 3866 213 \r\nQ 3469 63 3072 -14 \r\nQ 2675 -91 2278 -91 \r\nQ 1328 -91 801 392 \r\nQ 275 875 275 1747 \r\nQ 275 2603 792 3093 \r\nQ 1309 3584 2216 3584 \r\nQ 3041 3584 3536 3087 \r\nQ 4031 2591 4031 1759 \r\nz\r\nM 2881 2131 \r\nQ 2881 2450 2695 2645 \r\nQ 2509 2841 2209 2841 \r\nQ 1884 2841 1681 2658 \r\nQ 1478 2475 1428 2131 \r\nL 2881 2131 \r\nz\r\n\" id=\"DejaVuSans-Bold-65\" transform=\"scale(0.015625)\"/>\r\n        <path d=\"M 2106 1575 \r\nQ 1756 1575 1579 1456 \r\nQ 1403 1338 1403 1106 \r\nQ 1403 894 1545 773 \r\nQ 1688 653 1941 653 \r\nQ 2256 653 2472 879 \r\nQ 2688 1106 2688 1447 \r\nL 2688 1575 \r\nL 2106 1575 \r\nz\r\nM 3816 1997 \r\nL 3816 0 \r\nL 2688 0 \r\nL 2688 519 \r\nQ 2463 200 2181 54 \r\nQ 1900 -91 1497 -91 \r\nQ 953 -91 614 226 \r\nQ 275 544 275 1050 \r\nQ 275 1666 698 1953 \r\nQ 1122 2241 2028 2241 \r\nL 2688 2241 \r\nL 2688 2328 \r\nQ 2688 2594 2478 2717 \r\nQ 2269 2841 1825 2841 \r\nQ 1466 2841 1156 2769 \r\nQ 847 2697 581 2553 \r\nL 581 3406 \r\nQ 941 3494 1303 3539 \r\nQ 1666 3584 2028 3584 \r\nQ 2975 3584 3395 3211 \r\nQ 3816 2838 3816 1997 \r\nz\r\n\" id=\"DejaVuSans-Bold-61\" transform=\"scale(0.015625)\"/>\r\n        <path d=\"M 3781 2919 \r\nQ 3994 3244 4286 3414 \r\nQ 4578 3584 4928 3584 \r\nQ 5531 3584 5847 3212 \r\nQ 6163 2841 6163 2131 \r\nL 6163 0 \r\nL 5038 0 \r\nL 5038 1825 \r\nQ 5041 1866 5042 1909 \r\nQ 5044 1953 5044 2034 \r\nQ 5044 2406 4934 2573 \r\nQ 4825 2741 4581 2741 \r\nQ 4263 2741 4089 2478 \r\nQ 3916 2216 3909 1719 \r\nL 3909 0 \r\nL 2784 0 \r\nL 2784 1825 \r\nQ 2784 2406 2684 2573 \r\nQ 2584 2741 2328 2741 \r\nQ 2006 2741 1831 2477 \r\nQ 1656 2213 1656 1722 \r\nL 1656 0 \r\nL 531 0 \r\nL 531 3500 \r\nL 1656 3500 \r\nL 1656 2988 \r\nQ 1863 3284 2130 3434 \r\nQ 2397 3584 2719 3584 \r\nQ 3081 3584 3359 3409 \r\nQ 3638 3234 3781 2919 \r\nz\r\n\" id=\"DejaVuSans-Bold-6d\" transform=\"scale(0.015625)\"/>\r\n       </defs>\r\n       <use xlink:href=\"#DejaVuSans-Bold-74\"/>\r\n       <use x=\"47.802734\" xlink:href=\"#DejaVuSans-Bold-72\"/>\r\n       <use x=\"97.119141\" xlink:href=\"#DejaVuSans-Bold-65\"/>\r\n       <use x=\"164.941406\" xlink:href=\"#DejaVuSans-Bold-61\"/>\r\n       <use x=\"232.421875\" xlink:href=\"#DejaVuSans-Bold-74\"/>\r\n       <use x=\"280.224609\" xlink:href=\"#DejaVuSans-Bold-6d\"/>\r\n       <use x=\"384.423828\" xlink:href=\"#DejaVuSans-Bold-65\"/>\r\n       <use x=\"452.246094\" xlink:href=\"#DejaVuSans-Bold-6e\"/>\r\n       <use x=\"523.4375\" xlink:href=\"#DejaVuSans-Bold-74\"/>\r\n      </g>\r\n     </g>\r\n    </g>\r\n    <g id=\"text_3\">\r\n     <!-- Group -->\r\n     <g style=\"fill:#262626;\" transform=\"translate(275.682656 408.812562)scale(0.14 -0.14)\">\r\n      <defs>\r\n       <path d=\"M 3809 666 \r\nL 3809 1919 \r\nL 2778 1919 \r\nL 2778 2438 \r\nL 4434 2438 \r\nL 4434 434 \r\nQ 4069 175 3628 42 \r\nQ 3188 -91 2688 -91 \r\nQ 1594 -91 976 548 \r\nQ 359 1188 359 2328 \r\nQ 359 3472 976 4111 \r\nQ 1594 4750 2688 4750 \r\nQ 3144 4750 3555 4637 \r\nQ 3966 4525 4313 4306 \r\nL 4313 3634 \r\nQ 3963 3931 3569 4081 \r\nQ 3175 4231 2741 4231 \r\nQ 1884 4231 1454 3753 \r\nQ 1025 3275 1025 2328 \r\nQ 1025 1384 1454 906 \r\nQ 1884 428 2741 428 \r\nQ 3075 428 3337 486 \r\nQ 3600 544 3809 666 \r\nz\r\n\" id=\"DejaVuSans-47\" transform=\"scale(0.015625)\"/>\r\n       <path d=\"M 2631 2963 \r\nQ 2534 3019 2420 3045 \r\nQ 2306 3072 2169 3072 \r\nQ 1681 3072 1420 2755 \r\nQ 1159 2438 1159 1844 \r\nL 1159 0 \r\nL 581 0 \r\nL 581 3500 \r\nL 1159 3500 \r\nL 1159 2956 \r\nQ 1341 3275 1631 3429 \r\nQ 1922 3584 2338 3584 \r\nQ 2397 3584 2469 3576 \r\nQ 2541 3569 2628 3553 \r\nL 2631 2963 \r\nz\r\n\" id=\"DejaVuSans-72\" transform=\"scale(0.015625)\"/>\r\n       <path d=\"M 1959 3097 \r\nQ 1497 3097 1228 2736 \r\nQ 959 2375 959 1747 \r\nQ 959 1119 1226 758 \r\nQ 1494 397 1959 397 \r\nQ 2419 397 2687 759 \r\nQ 2956 1122 2956 1747 \r\nQ 2956 2369 2687 2733 \r\nQ 2419 3097 1959 3097 \r\nz\r\nM 1959 3584 \r\nQ 2709 3584 3137 3096 \r\nQ 3566 2609 3566 1747 \r\nQ 3566 888 3137 398 \r\nQ 2709 -91 1959 -91 \r\nQ 1206 -91 779 398 \r\nQ 353 888 353 1747 \r\nQ 353 2609 779 3096 \r\nQ 1206 3584 1959 3584 \r\nz\r\n\" id=\"DejaVuSans-6f\" transform=\"scale(0.015625)\"/>\r\n       <path d=\"M 544 1381 \r\nL 544 3500 \r\nL 1119 3500 \r\nL 1119 1403 \r\nQ 1119 906 1312 657 \r\nQ 1506 409 1894 409 \r\nQ 2359 409 2629 706 \r\nQ 2900 1003 2900 1516 \r\nL 2900 3500 \r\nL 3475 3500 \r\nL 3475 0 \r\nL 2900 0 \r\nL 2900 538 \r\nQ 2691 219 2414 64 \r\nQ 2138 -91 1772 -91 \r\nQ 1169 -91 856 284 \r\nQ 544 659 544 1381 \r\nz\r\nM 1991 3584 \r\nL 1991 3584 \r\nz\r\n\" id=\"DejaVuSans-75\" transform=\"scale(0.015625)\"/>\r\n       <path d=\"M 1159 525 \r\nL 1159 -1331 \r\nL 581 -1331 \r\nL 581 3500 \r\nL 1159 3500 \r\nL 1159 2969 \r\nQ 1341 3281 1617 3432 \r\nQ 1894 3584 2278 3584 \r\nQ 2916 3584 3314 3078 \r\nQ 3713 2572 3713 1747 \r\nQ 3713 922 3314 415 \r\nQ 2916 -91 2278 -91 \r\nQ 1894 -91 1617 61 \r\nQ 1341 213 1159 525 \r\nz\r\nM 3116 1747 \r\nQ 3116 2381 2855 2742 \r\nQ 2594 3103 2138 3103 \r\nQ 1681 3103 1420 2742 \r\nQ 1159 2381 1159 1747 \r\nQ 1159 1113 1420 752 \r\nQ 1681 391 2138 391 \r\nQ 2594 391 2855 752 \r\nQ 3116 1113 3116 1747 \r\nz\r\n\" id=\"DejaVuSans-70\" transform=\"scale(0.015625)\"/>\r\n      </defs>\r\n      <use xlink:href=\"#DejaVuSans-47\"/>\r\n      <use x=\"77.490234\" xlink:href=\"#DejaVuSans-72\"/>\r\n      <use x=\"116.353516\" xlink:href=\"#DejaVuSans-6f\"/>\r\n      <use x=\"177.535156\" xlink:href=\"#DejaVuSans-75\"/>\r\n      <use x=\"240.914062\" xlink:href=\"#DejaVuSans-70\"/>\r\n     </g>\r\n    </g>\r\n   </g>\r\n   <g id=\"matplotlib.axis_2\">\r\n    <g id=\"ytick_1\">\r\n     <g id=\"line2d_3\">\r\n      <path clip-path=\"url(#p80fc677e19)\" d=\"M 73.79 366.125375 \r\nL 520.19 366.125375 \r\n\" style=\"fill:none;stroke:#cccccc;stroke-linecap:round;stroke-width:0.8;\"/>\r\n     </g>\r\n     <g id=\"line2d_4\"/>\r\n     <g id=\"text_4\">\r\n      <!-- 0.00 -->\r\n      <g style=\"fill:#262626;\" transform=\"translate(35.749375 371.444281)scale(0.14 -0.14)\">\r\n       <defs>\r\n        <path d=\"M 2944 2338 \r\nQ 2944 3213 2780 3570 \r\nQ 2616 3928 2228 3928 \r\nQ 1841 3928 1675 3570 \r\nQ 1509 3213 1509 2338 \r\nQ 1509 1453 1675 1090 \r\nQ 1841 728 2228 728 \r\nQ 2613 728 2778 1090 \r\nQ 2944 1453 2944 2338 \r\nz\r\nM 4147 2328 \r\nQ 4147 1169 3647 539 \r\nQ 3147 -91 2228 -91 \r\nQ 1306 -91 806 539 \r\nQ 306 1169 306 2328 \r\nQ 306 3491 806 4120 \r\nQ 1306 4750 2228 4750 \r\nQ 3147 4750 3647 4120 \r\nQ 4147 3491 4147 2328 \r\nz\r\n\" id=\"DejaVuSans-Bold-30\" transform=\"scale(0.015625)\"/>\r\n        <path d=\"M 653 1209 \r\nL 1778 1209 \r\nL 1778 0 \r\nL 653 0 \r\nL 653 1209 \r\nz\r\n\" id=\"DejaVuSans-Bold-2e\" transform=\"scale(0.015625)\"/>\r\n       </defs>\r\n       <use xlink:href=\"#DejaVuSans-Bold-30\"/>\r\n       <use x=\"69.580078\" xlink:href=\"#DejaVuSans-Bold-2e\"/>\r\n       <use x=\"107.568359\" xlink:href=\"#DejaVuSans-Bold-30\"/>\r\n       <use x=\"177.148438\" xlink:href=\"#DejaVuSans-Bold-30\"/>\r\n      </g>\r\n     </g>\r\n    </g>\r\n    <g id=\"ytick_2\">\r\n     <g id=\"line2d_5\">\r\n      <path clip-path=\"url(#p80fc677e19)\" d=\"M 73.79 327.75361 \r\nL 520.19 327.75361 \r\n\" style=\"fill:none;stroke:#cccccc;stroke-linecap:round;stroke-width:0.8;\"/>\r\n     </g>\r\n     <g id=\"line2d_6\"/>\r\n     <g id=\"text_5\">\r\n      <!-- 0.02 -->\r\n      <g style=\"fill:#262626;\" transform=\"translate(35.749375 333.072517)scale(0.14 -0.14)\">\r\n       <defs>\r\n        <path d=\"M 1844 884 \r\nL 3897 884 \r\nL 3897 0 \r\nL 506 0 \r\nL 506 884 \r\nL 2209 2388 \r\nQ 2438 2594 2547 2791 \r\nQ 2656 2988 2656 3200 \r\nQ 2656 3528 2436 3728 \r\nQ 2216 3928 1850 3928 \r\nQ 1569 3928 1234 3808 \r\nQ 900 3688 519 3450 \r\nL 519 4475 \r\nQ 925 4609 1322 4679 \r\nQ 1719 4750 2100 4750 \r\nQ 2938 4750 3402 4381 \r\nQ 3866 4013 3866 3353 \r\nQ 3866 2972 3669 2642 \r\nQ 3472 2313 2841 1759 \r\nL 1844 884 \r\nz\r\n\" id=\"DejaVuSans-Bold-32\" transform=\"scale(0.015625)\"/>\r\n       </defs>\r\n       <use xlink:href=\"#DejaVuSans-Bold-30\"/>\r\n       <use x=\"69.580078\" xlink:href=\"#DejaVuSans-Bold-2e\"/>\r\n       <use x=\"107.568359\" xlink:href=\"#DejaVuSans-Bold-30\"/>\r\n       <use x=\"177.148438\" xlink:href=\"#DejaVuSans-Bold-32\"/>\r\n      </g>\r\n     </g>\r\n    </g>\r\n    <g id=\"ytick_3\">\r\n     <g id=\"line2d_7\">\r\n      <path clip-path=\"url(#p80fc677e19)\" d=\"M 73.79 289.381846 \r\nL 520.19 289.381846 \r\n\" style=\"fill:none;stroke:#cccccc;stroke-linecap:round;stroke-width:0.8;\"/>\r\n     </g>\r\n     <g id=\"line2d_8\"/>\r\n     <g id=\"text_6\">\r\n      <!-- 0.04 -->\r\n      <g style=\"fill:#262626;\" transform=\"translate(35.749375 294.700752)scale(0.14 -0.14)\">\r\n       <defs>\r\n        <path d=\"M 2356 3675 \r\nL 1038 1722 \r\nL 2356 1722 \r\nL 2356 3675 \r\nz\r\nM 2156 4666 \r\nL 3494 4666 \r\nL 3494 1722 \r\nL 4159 1722 \r\nL 4159 850 \r\nL 3494 850 \r\nL 3494 0 \r\nL 2356 0 \r\nL 2356 850 \r\nL 288 850 \r\nL 288 1881 \r\nL 2156 4666 \r\nz\r\n\" id=\"DejaVuSans-Bold-34\" transform=\"scale(0.015625)\"/>\r\n       </defs>\r\n       <use xlink:href=\"#DejaVuSans-Bold-30\"/>\r\n       <use x=\"69.580078\" xlink:href=\"#DejaVuSans-Bold-2e\"/>\r\n       <use x=\"107.568359\" xlink:href=\"#DejaVuSans-Bold-30\"/>\r\n       <use x=\"177.148438\" xlink:href=\"#DejaVuSans-Bold-34\"/>\r\n      </g>\r\n     </g>\r\n    </g>\r\n    <g id=\"ytick_4\">\r\n     <g id=\"line2d_9\">\r\n      <path clip-path=\"url(#p80fc677e19)\" d=\"M 73.79 251.010081 \r\nL 520.19 251.010081 \r\n\" style=\"fill:none;stroke:#cccccc;stroke-linecap:round;stroke-width:0.8;\"/>\r\n     </g>\r\n     <g id=\"line2d_10\"/>\r\n     <g id=\"text_7\">\r\n      <!-- 0.06 -->\r\n      <g style=\"fill:#262626;\" transform=\"translate(35.749375 256.328987)scale(0.14 -0.14)\">\r\n       <defs>\r\n        <path d=\"M 2316 2303 \r\nQ 2000 2303 1842 2098 \r\nQ 1684 1894 1684 1484 \r\nQ 1684 1075 1842 870 \r\nQ 2000 666 2316 666 \r\nQ 2634 666 2792 870 \r\nQ 2950 1075 2950 1484 \r\nQ 2950 1894 2792 2098 \r\nQ 2634 2303 2316 2303 \r\nz\r\nM 3803 4544 \r\nL 3803 3681 \r\nQ 3506 3822 3243 3889 \r\nQ 2981 3956 2731 3956 \r\nQ 2194 3956 1894 3657 \r\nQ 1594 3359 1544 2772 \r\nQ 1750 2925 1990 3001 \r\nQ 2231 3078 2516 3078 \r\nQ 3231 3078 3670 2659 \r\nQ 4109 2241 4109 1563 \r\nQ 4109 813 3618 361 \r\nQ 3128 -91 2303 -91 \r\nQ 1394 -91 895 523 \r\nQ 397 1138 397 2266 \r\nQ 397 3422 980 4083 \r\nQ 1563 4744 2578 4744 \r\nQ 2900 4744 3203 4694 \r\nQ 3506 4644 3803 4544 \r\nz\r\n\" id=\"DejaVuSans-Bold-36\" transform=\"scale(0.015625)\"/>\r\n       </defs>\r\n       <use xlink:href=\"#DejaVuSans-Bold-30\"/>\r\n       <use x=\"69.580078\" xlink:href=\"#DejaVuSans-Bold-2e\"/>\r\n       <use x=\"107.568359\" xlink:href=\"#DejaVuSans-Bold-30\"/>\r\n       <use x=\"177.148438\" xlink:href=\"#DejaVuSans-Bold-36\"/>\r\n      </g>\r\n     </g>\r\n    </g>\r\n    <g id=\"ytick_5\">\r\n     <g id=\"line2d_11\">\r\n      <path clip-path=\"url(#p80fc677e19)\" d=\"M 73.79 212.638316 \r\nL 520.19 212.638316 \r\n\" style=\"fill:none;stroke:#cccccc;stroke-linecap:round;stroke-width:0.8;\"/>\r\n     </g>\r\n     <g id=\"line2d_12\"/>\r\n     <g id=\"text_8\">\r\n      <!-- 0.08 -->\r\n      <g style=\"fill:#262626;\" transform=\"translate(35.749375 217.957222)scale(0.14 -0.14)\">\r\n       <defs>\r\n        <path d=\"M 2228 2088 \r\nQ 1891 2088 1709 1903 \r\nQ 1528 1719 1528 1375 \r\nQ 1528 1031 1709 848 \r\nQ 1891 666 2228 666 \r\nQ 2563 666 2741 848 \r\nQ 2919 1031 2919 1375 \r\nQ 2919 1722 2741 1905 \r\nQ 2563 2088 2228 2088 \r\nz\r\nM 1350 2484 \r\nQ 925 2613 709 2878 \r\nQ 494 3144 494 3541 \r\nQ 494 4131 934 4440 \r\nQ 1375 4750 2228 4750 \r\nQ 3075 4750 3515 4442 \r\nQ 3956 4134 3956 3541 \r\nQ 3956 3144 3739 2878 \r\nQ 3522 2613 3097 2484 \r\nQ 3572 2353 3814 2058 \r\nQ 4056 1763 4056 1313 \r\nQ 4056 619 3595 264 \r\nQ 3134 -91 2228 -91 \r\nQ 1319 -91 855 264 \r\nQ 391 619 391 1313 \r\nQ 391 1763 633 2058 \r\nQ 875 2353 1350 2484 \r\nz\r\nM 1631 3419 \r\nQ 1631 3141 1786 2991 \r\nQ 1941 2841 2228 2841 \r\nQ 2509 2841 2662 2991 \r\nQ 2816 3141 2816 3419 \r\nQ 2816 3697 2662 3845 \r\nQ 2509 3994 2228 3994 \r\nQ 1941 3994 1786 3844 \r\nQ 1631 3694 1631 3419 \r\nz\r\n\" id=\"DejaVuSans-Bold-38\" transform=\"scale(0.015625)\"/>\r\n       </defs>\r\n       <use xlink:href=\"#DejaVuSans-Bold-30\"/>\r\n       <use x=\"69.580078\" xlink:href=\"#DejaVuSans-Bold-2e\"/>\r\n       <use x=\"107.568359\" xlink:href=\"#DejaVuSans-Bold-30\"/>\r\n       <use x=\"177.148438\" xlink:href=\"#DejaVuSans-Bold-38\"/>\r\n      </g>\r\n     </g>\r\n    </g>\r\n    <g id=\"ytick_6\">\r\n     <g id=\"line2d_13\">\r\n      <path clip-path=\"url(#p80fc677e19)\" d=\"M 73.79 174.266551 \r\nL 520.19 174.266551 \r\n\" style=\"fill:none;stroke:#cccccc;stroke-linecap:round;stroke-width:0.8;\"/>\r\n     </g>\r\n     <g id=\"line2d_14\"/>\r\n     <g id=\"text_9\">\r\n      <!-- 0.10 -->\r\n      <g style=\"fill:#262626;\" transform=\"translate(35.749375 179.585458)scale(0.14 -0.14)\">\r\n       <defs>\r\n        <path d=\"M 750 831 \r\nL 1813 831 \r\nL 1813 3847 \r\nL 722 3622 \r\nL 722 4441 \r\nL 1806 4666 \r\nL 2950 4666 \r\nL 2950 831 \r\nL 4013 831 \r\nL 4013 0 \r\nL 750 0 \r\nL 750 831 \r\nz\r\n\" id=\"DejaVuSans-Bold-31\" transform=\"scale(0.015625)\"/>\r\n       </defs>\r\n       <use xlink:href=\"#DejaVuSans-Bold-30\"/>\r\n       <use x=\"69.580078\" xlink:href=\"#DejaVuSans-Bold-2e\"/>\r\n       <use x=\"107.568359\" xlink:href=\"#DejaVuSans-Bold-31\"/>\r\n       <use x=\"177.148438\" xlink:href=\"#DejaVuSans-Bold-30\"/>\r\n      </g>\r\n     </g>\r\n    </g>\r\n    <g id=\"ytick_7\">\r\n     <g id=\"line2d_15\">\r\n      <path clip-path=\"url(#p80fc677e19)\" d=\"M 73.79 135.894787 \r\nL 520.19 135.894787 \r\n\" style=\"fill:none;stroke:#cccccc;stroke-linecap:round;stroke-width:0.8;\"/>\r\n     </g>\r\n     <g id=\"line2d_16\"/>\r\n     <g id=\"text_10\">\r\n      <!-- 0.12 -->\r\n      <g style=\"fill:#262626;\" transform=\"translate(35.749375 141.213693)scale(0.14 -0.14)\">\r\n       <use xlink:href=\"#DejaVuSans-Bold-30\"/>\r\n       <use x=\"69.580078\" xlink:href=\"#DejaVuSans-Bold-2e\"/>\r\n       <use x=\"107.568359\" xlink:href=\"#DejaVuSans-Bold-31\"/>\r\n       <use x=\"177.148438\" xlink:href=\"#DejaVuSans-Bold-32\"/>\r\n      </g>\r\n     </g>\r\n    </g>\r\n    <g id=\"ytick_8\">\r\n     <g id=\"line2d_17\">\r\n      <path clip-path=\"url(#p80fc677e19)\" d=\"M 73.79 97.523022 \r\nL 520.19 97.523022 \r\n\" style=\"fill:none;stroke:#cccccc;stroke-linecap:round;stroke-width:0.8;\"/>\r\n     </g>\r\n     <g id=\"line2d_18\"/>\r\n     <g id=\"text_11\">\r\n      <!-- 0.14 -->\r\n      <g style=\"fill:#262626;\" transform=\"translate(35.749375 102.841928)scale(0.14 -0.14)\">\r\n       <use xlink:href=\"#DejaVuSans-Bold-30\"/>\r\n       <use x=\"69.580078\" xlink:href=\"#DejaVuSans-Bold-2e\"/>\r\n       <use x=\"107.568359\" xlink:href=\"#DejaVuSans-Bold-31\"/>\r\n       <use x=\"177.148438\" xlink:href=\"#DejaVuSans-Bold-34\"/>\r\n      </g>\r\n     </g>\r\n    </g>\r\n    <g id=\"ytick_9\">\r\n     <g id=\"line2d_19\">\r\n      <path clip-path=\"url(#p80fc677e19)\" d=\"M 73.79 59.151257 \r\nL 520.19 59.151257 \r\n\" style=\"fill:none;stroke:#cccccc;stroke-linecap:round;stroke-width:0.8;\"/>\r\n     </g>\r\n     <g id=\"line2d_20\"/>\r\n     <g id=\"text_12\">\r\n      <!-- 0.16 -->\r\n      <g style=\"fill:#262626;\" transform=\"translate(35.749375 64.470164)scale(0.14 -0.14)\">\r\n       <use xlink:href=\"#DejaVuSans-Bold-30\"/>\r\n       <use x=\"69.580078\" xlink:href=\"#DejaVuSans-Bold-2e\"/>\r\n       <use x=\"107.568359\" xlink:href=\"#DejaVuSans-Bold-31\"/>\r\n       <use x=\"177.148438\" xlink:href=\"#DejaVuSans-Bold-36\"/>\r\n      </g>\r\n     </g>\r\n    </g>\r\n    <g id=\"text_13\">\r\n     <!-- Converted (proportion) -->\r\n     <g style=\"fill:#262626;\" transform=\"translate(17.837812 283.623031)rotate(-90)scale(0.14 -0.14)\">\r\n      <defs>\r\n       <path d=\"M 4122 4306 \r\nL 4122 3641 \r\nQ 3803 3938 3442 4084 \r\nQ 3081 4231 2675 4231 \r\nQ 1875 4231 1450 3742 \r\nQ 1025 3253 1025 2328 \r\nQ 1025 1406 1450 917 \r\nQ 1875 428 2675 428 \r\nQ 3081 428 3442 575 \r\nQ 3803 722 4122 1019 \r\nL 4122 359 \r\nQ 3791 134 3420 21 \r\nQ 3050 -91 2638 -91 \r\nQ 1578 -91 968 557 \r\nQ 359 1206 359 2328 \r\nQ 359 3453 968 4101 \r\nQ 1578 4750 2638 4750 \r\nQ 3056 4750 3426 4639 \r\nQ 3797 4528 4122 4306 \r\nz\r\n\" id=\"DejaVuSans-43\" transform=\"scale(0.015625)\"/>\r\n       <path d=\"M 3513 2113 \r\nL 3513 0 \r\nL 2938 0 \r\nL 2938 2094 \r\nQ 2938 2591 2744 2837 \r\nQ 2550 3084 2163 3084 \r\nQ 1697 3084 1428 2787 \r\nQ 1159 2491 1159 1978 \r\nL 1159 0 \r\nL 581 0 \r\nL 581 3500 \r\nL 1159 3500 \r\nL 1159 2956 \r\nQ 1366 3272 1645 3428 \r\nQ 1925 3584 2291 3584 \r\nQ 2894 3584 3203 3211 \r\nQ 3513 2838 3513 2113 \r\nz\r\n\" id=\"DejaVuSans-6e\" transform=\"scale(0.015625)\"/>\r\n       <path d=\"M 191 3500 \r\nL 800 3500 \r\nL 1894 563 \r\nL 2988 3500 \r\nL 3597 3500 \r\nL 2284 0 \r\nL 1503 0 \r\nL 191 3500 \r\nz\r\n\" id=\"DejaVuSans-76\" transform=\"scale(0.015625)\"/>\r\n       <path d=\"M 3597 1894 \r\nL 3597 1613 \r\nL 953 1613 \r\nQ 991 1019 1311 708 \r\nQ 1631 397 2203 397 \r\nQ 2534 397 2845 478 \r\nQ 3156 559 3463 722 \r\nL 3463 178 \r\nQ 3153 47 2828 -22 \r\nQ 2503 -91 2169 -91 \r\nQ 1331 -91 842 396 \r\nQ 353 884 353 1716 \r\nQ 353 2575 817 3079 \r\nQ 1281 3584 2069 3584 \r\nQ 2775 3584 3186 3129 \r\nQ 3597 2675 3597 1894 \r\nz\r\nM 3022 2063 \r\nQ 3016 2534 2758 2815 \r\nQ 2500 3097 2075 3097 \r\nQ 1594 3097 1305 2825 \r\nQ 1016 2553 972 2059 \r\nL 3022 2063 \r\nz\r\n\" id=\"DejaVuSans-65\" transform=\"scale(0.015625)\"/>\r\n       <path d=\"M 1172 4494 \r\nL 1172 3500 \r\nL 2356 3500 \r\nL 2356 3053 \r\nL 1172 3053 \r\nL 1172 1153 \r\nQ 1172 725 1289 603 \r\nQ 1406 481 1766 481 \r\nL 2356 481 \r\nL 2356 0 \r\nL 1766 0 \r\nQ 1100 0 847 248 \r\nQ 594 497 594 1153 \r\nL 594 3053 \r\nL 172 3053 \r\nL 172 3500 \r\nL 594 3500 \r\nL 594 4494 \r\nL 1172 4494 \r\nz\r\n\" id=\"DejaVuSans-74\" transform=\"scale(0.015625)\"/>\r\n       <path d=\"M 2906 2969 \r\nL 2906 4863 \r\nL 3481 4863 \r\nL 3481 0 \r\nL 2906 0 \r\nL 2906 525 \r\nQ 2725 213 2448 61 \r\nQ 2172 -91 1784 -91 \r\nQ 1150 -91 751 415 \r\nQ 353 922 353 1747 \r\nQ 353 2572 751 3078 \r\nQ 1150 3584 1784 3584 \r\nQ 2172 3584 2448 3432 \r\nQ 2725 3281 2906 2969 \r\nz\r\nM 947 1747 \r\nQ 947 1113 1208 752 \r\nQ 1469 391 1925 391 \r\nQ 2381 391 2643 752 \r\nQ 2906 1113 2906 1747 \r\nQ 2906 2381 2643 2742 \r\nQ 2381 3103 1925 3103 \r\nQ 1469 3103 1208 2742 \r\nQ 947 2381 947 1747 \r\nz\r\n\" id=\"DejaVuSans-64\" transform=\"scale(0.015625)\"/>\r\n       <path id=\"DejaVuSans-20\" transform=\"scale(0.015625)\"/>\r\n       <path d=\"M 1984 4856 \r\nQ 1566 4138 1362 3434 \r\nQ 1159 2731 1159 2009 \r\nQ 1159 1288 1364 580 \r\nQ 1569 -128 1984 -844 \r\nL 1484 -844 \r\nQ 1016 -109 783 600 \r\nQ 550 1309 550 2009 \r\nQ 550 2706 781 3412 \r\nQ 1013 4119 1484 4856 \r\nL 1984 4856 \r\nz\r\n\" id=\"DejaVuSans-28\" transform=\"scale(0.015625)\"/>\r\n       <path d=\"M 603 3500 \r\nL 1178 3500 \r\nL 1178 0 \r\nL 603 0 \r\nL 603 3500 \r\nz\r\nM 603 4863 \r\nL 1178 4863 \r\nL 1178 4134 \r\nL 603 4134 \r\nL 603 4863 \r\nz\r\n\" id=\"DejaVuSans-69\" transform=\"scale(0.015625)\"/>\r\n       <path d=\"M 513 4856 \r\nL 1013 4856 \r\nQ 1481 4119 1714 3412 \r\nQ 1947 2706 1947 2009 \r\nQ 1947 1309 1714 600 \r\nQ 1481 -109 1013 -844 \r\nL 513 -844 \r\nQ 928 -128 1133 580 \r\nQ 1338 1288 1338 2009 \r\nQ 1338 2731 1133 3434 \r\nQ 928 4138 513 4856 \r\nz\r\n\" id=\"DejaVuSans-29\" transform=\"scale(0.015625)\"/>\r\n      </defs>\r\n      <use xlink:href=\"#DejaVuSans-43\"/>\r\n      <use x=\"69.824219\" xlink:href=\"#DejaVuSans-6f\"/>\r\n      <use x=\"131.005859\" xlink:href=\"#DejaVuSans-6e\"/>\r\n      <use x=\"194.384766\" xlink:href=\"#DejaVuSans-76\"/>\r\n      <use x=\"253.564453\" xlink:href=\"#DejaVuSans-65\"/>\r\n      <use x=\"315.087891\" xlink:href=\"#DejaVuSans-72\"/>\r\n      <use x=\"356.201172\" xlink:href=\"#DejaVuSans-74\"/>\r\n      <use x=\"395.410156\" xlink:href=\"#DejaVuSans-65\"/>\r\n      <use x=\"456.933594\" xlink:href=\"#DejaVuSans-64\"/>\r\n      <use x=\"520.410156\" xlink:href=\"#DejaVuSans-20\"/>\r\n      <use x=\"552.197266\" xlink:href=\"#DejaVuSans-28\"/>\r\n      <use x=\"591.210938\" xlink:href=\"#DejaVuSans-70\"/>\r\n      <use x=\"654.6875\" xlink:href=\"#DejaVuSans-72\"/>\r\n      <use x=\"693.550781\" xlink:href=\"#DejaVuSans-6f\"/>\r\n      <use x=\"754.732422\" xlink:href=\"#DejaVuSans-70\"/>\r\n      <use x=\"818.208984\" xlink:href=\"#DejaVuSans-6f\"/>\r\n      <use x=\"879.390625\" xlink:href=\"#DejaVuSans-72\"/>\r\n      <use x=\"920.503906\" xlink:href=\"#DejaVuSans-74\"/>\r\n      <use x=\"959.712891\" xlink:href=\"#DejaVuSans-69\"/>\r\n      <use x=\"987.496094\" xlink:href=\"#DejaVuSans-6f\"/>\r\n      <use x=\"1048.677734\" xlink:href=\"#DejaVuSans-6e\"/>\r\n      <use x=\"1112.056641\" xlink:href=\"#DejaVuSans-29\"/>\r\n     </g>\r\n    </g>\r\n   </g>\r\n   <g id=\"patch_3\">\r\n    <path clip-path=\"url(#p80fc677e19)\" d=\"M 96.11 366.125375 \r\nL 274.67 366.125375 \r\nL 274.67 129.55369 \r\nL 96.11 129.55369 \r\nz\r\n\" style=\"fill:#3274a1;\"/>\r\n   </g>\r\n   <g id=\"patch_4\">\r\n    <path clip-path=\"url(#p80fc677e19)\" d=\"M 319.31 366.125375 \r\nL 497.87 366.125375 \r\nL 497.87 125.082404 \r\nL 319.31 125.082404 \r\nz\r\n\" style=\"fill:#e1812c;\"/>\r\n   </g>\r\n   <g id=\"line2d_21\">\r\n    <path clip-path=\"url(#p80fc677e19)\" d=\"M 185.39 129.55369 \r\nL 185.39 129.55369 \r\n\" style=\"fill:none;stroke:#424242;stroke-linecap:round;stroke-width:2.7;\"/>\r\n   </g>\r\n   <g id=\"line2d_22\">\r\n    <path clip-path=\"url(#p80fc677e19)\" d=\"M 408.59 125.082404 \r\nL 408.59 125.082404 \r\n\" style=\"fill:none;stroke:#424242;stroke-linecap:round;stroke-width:2.7;\"/>\r\n   </g>\r\n   <g id=\"patch_5\">\r\n    <path d=\"M 73.79 366.125375 \r\nL 73.79 39.965375 \r\n\" style=\"fill:none;stroke:#cccccc;stroke-linecap:square;stroke-linejoin:miter;\"/>\r\n   </g>\r\n   <g id=\"patch_6\">\r\n    <path d=\"M 520.19 366.125375 \r\nL 520.19 39.965375 \r\n\" style=\"fill:none;stroke:#cccccc;stroke-linecap:square;stroke-linejoin:miter;\"/>\r\n   </g>\r\n   <g id=\"patch_7\">\r\n    <path d=\"M 73.79 366.125375 \r\nL 520.19 366.125375 \r\n\" style=\"fill:none;stroke:#cccccc;stroke-linecap:square;stroke-linejoin:miter;\"/>\r\n   </g>\r\n   <g id=\"patch_8\">\r\n    <path d=\"M 73.79 39.965375 \r\nL 520.19 39.965375 \r\n\" style=\"fill:none;stroke:#cccccc;stroke-linecap:square;stroke-linejoin:miter;\"/>\r\n   </g>\r\n   <g id=\"text_14\">\r\n    <!-- Conversion rate by group -->\r\n    <g style=\"fill:#262626;\" transform=\"translate(190.12625 19.965375)scale(0.168 -0.168)\">\r\n     <defs>\r\n      <path d=\"M 2834 3397 \r\nL 2834 2853 \r\nQ 2591 2978 2328 3040 \r\nQ 2066 3103 1784 3103 \r\nQ 1356 3103 1142 2972 \r\nQ 928 2841 928 2578 \r\nQ 928 2378 1081 2264 \r\nQ 1234 2150 1697 2047 \r\nL 1894 2003 \r\nQ 2506 1872 2764 1633 \r\nQ 3022 1394 3022 966 \r\nQ 3022 478 2636 193 \r\nQ 2250 -91 1575 -91 \r\nQ 1294 -91 989 -36 \r\nQ 684 19 347 128 \r\nL 347 722 \r\nQ 666 556 975 473 \r\nQ 1284 391 1588 391 \r\nQ 1994 391 2212 530 \r\nQ 2431 669 2431 922 \r\nQ 2431 1156 2273 1281 \r\nQ 2116 1406 1581 1522 \r\nL 1381 1569 \r\nQ 847 1681 609 1914 \r\nQ 372 2147 372 2553 \r\nQ 372 3047 722 3315 \r\nQ 1072 3584 1716 3584 \r\nQ 2034 3584 2315 3537 \r\nQ 2597 3491 2834 3397 \r\nz\r\n\" id=\"DejaVuSans-73\" transform=\"scale(0.015625)\"/>\r\n      <path d=\"M 2194 1759 \r\nQ 1497 1759 1228 1600 \r\nQ 959 1441 959 1056 \r\nQ 959 750 1161 570 \r\nQ 1363 391 1709 391 \r\nQ 2188 391 2477 730 \r\nQ 2766 1069 2766 1631 \r\nL 2766 1759 \r\nL 2194 1759 \r\nz\r\nM 3341 1997 \r\nL 3341 0 \r\nL 2766 0 \r\nL 2766 531 \r\nQ 2569 213 2275 61 \r\nQ 1981 -91 1556 -91 \r\nQ 1019 -91 701 211 \r\nQ 384 513 384 1019 \r\nQ 384 1609 779 1909 \r\nQ 1175 2209 1959 2209 \r\nL 2766 2209 \r\nL 2766 2266 \r\nQ 2766 2663 2505 2880 \r\nQ 2244 3097 1772 3097 \r\nQ 1472 3097 1187 3025 \r\nQ 903 2953 641 2809 \r\nL 641 3341 \r\nQ 956 3463 1253 3523 \r\nQ 1550 3584 1831 3584 \r\nQ 2591 3584 2966 3190 \r\nQ 3341 2797 3341 1997 \r\nz\r\n\" id=\"DejaVuSans-61\" transform=\"scale(0.015625)\"/>\r\n      <path d=\"M 3116 1747 \r\nQ 3116 2381 2855 2742 \r\nQ 2594 3103 2138 3103 \r\nQ 1681 3103 1420 2742 \r\nQ 1159 2381 1159 1747 \r\nQ 1159 1113 1420 752 \r\nQ 1681 391 2138 391 \r\nQ 2594 391 2855 752 \r\nQ 3116 1113 3116 1747 \r\nz\r\nM 1159 2969 \r\nQ 1341 3281 1617 3432 \r\nQ 1894 3584 2278 3584 \r\nQ 2916 3584 3314 3078 \r\nQ 3713 2572 3713 1747 \r\nQ 3713 922 3314 415 \r\nQ 2916 -91 2278 -91 \r\nQ 1894 -91 1617 61 \r\nQ 1341 213 1159 525 \r\nL 1159 0 \r\nL 581 0 \r\nL 581 4863 \r\nL 1159 4863 \r\nL 1159 2969 \r\nz\r\n\" id=\"DejaVuSans-62\" transform=\"scale(0.015625)\"/>\r\n      <path d=\"M 2059 -325 \r\nQ 1816 -950 1584 -1140 \r\nQ 1353 -1331 966 -1331 \r\nL 506 -1331 \r\nL 506 -850 \r\nL 844 -850 \r\nQ 1081 -850 1212 -737 \r\nQ 1344 -625 1503 -206 \r\nL 1606 56 \r\nL 191 3500 \r\nL 800 3500 \r\nL 1894 763 \r\nL 2988 3500 \r\nL 3597 3500 \r\nL 2059 -325 \r\nz\r\n\" id=\"DejaVuSans-79\" transform=\"scale(0.015625)\"/>\r\n      <path d=\"M 2906 1791 \r\nQ 2906 2416 2648 2759 \r\nQ 2391 3103 1925 3103 \r\nQ 1463 3103 1205 2759 \r\nQ 947 2416 947 1791 \r\nQ 947 1169 1205 825 \r\nQ 1463 481 1925 481 \r\nQ 2391 481 2648 825 \r\nQ 2906 1169 2906 1791 \r\nz\r\nM 3481 434 \r\nQ 3481 -459 3084 -895 \r\nQ 2688 -1331 1869 -1331 \r\nQ 1566 -1331 1297 -1286 \r\nQ 1028 -1241 775 -1147 \r\nL 775 -588 \r\nQ 1028 -725 1275 -790 \r\nQ 1522 -856 1778 -856 \r\nQ 2344 -856 2625 -561 \r\nQ 2906 -266 2906 331 \r\nL 2906 616 \r\nQ 2728 306 2450 153 \r\nQ 2172 0 1784 0 \r\nQ 1141 0 747 490 \r\nQ 353 981 353 1791 \r\nQ 353 2603 747 3093 \r\nQ 1141 3584 1784 3584 \r\nQ 2172 3584 2450 3431 \r\nQ 2728 3278 2906 2969 \r\nL 2906 3500 \r\nL 3481 3500 \r\nL 3481 434 \r\nz\r\n\" id=\"DejaVuSans-67\" transform=\"scale(0.015625)\"/>\r\n     </defs>\r\n     <use xlink:href=\"#DejaVuSans-43\"/>\r\n     <use x=\"69.824219\" xlink:href=\"#DejaVuSans-6f\"/>\r\n     <use x=\"131.005859\" xlink:href=\"#DejaVuSans-6e\"/>\r\n     <use x=\"194.384766\" xlink:href=\"#DejaVuSans-76\"/>\r\n     <use x=\"253.564453\" xlink:href=\"#DejaVuSans-65\"/>\r\n     <use x=\"315.087891\" xlink:href=\"#DejaVuSans-72\"/>\r\n     <use x=\"356.201172\" xlink:href=\"#DejaVuSans-73\"/>\r\n     <use x=\"408.300781\" xlink:href=\"#DejaVuSans-69\"/>\r\n     <use x=\"436.083984\" xlink:href=\"#DejaVuSans-6f\"/>\r\n     <use x=\"497.265625\" xlink:href=\"#DejaVuSans-6e\"/>\r\n     <use x=\"560.644531\" xlink:href=\"#DejaVuSans-20\"/>\r\n     <use x=\"592.431641\" xlink:href=\"#DejaVuSans-72\"/>\r\n     <use x=\"633.544922\" xlink:href=\"#DejaVuSans-61\"/>\r\n     <use x=\"694.824219\" xlink:href=\"#DejaVuSans-74\"/>\r\n     <use x=\"734.033203\" xlink:href=\"#DejaVuSans-65\"/>\r\n     <use x=\"795.556641\" xlink:href=\"#DejaVuSans-20\"/>\r\n     <use x=\"827.34375\" xlink:href=\"#DejaVuSans-62\"/>\r\n     <use x=\"890.820312\" xlink:href=\"#DejaVuSans-79\"/>\r\n     <use x=\"950\" xlink:href=\"#DejaVuSans-20\"/>\r\n     <use x=\"981.787109\" xlink:href=\"#DejaVuSans-67\"/>\r\n     <use x=\"1045.263672\" xlink:href=\"#DejaVuSans-72\"/>\r\n     <use x=\"1084.126953\" xlink:href=\"#DejaVuSans-6f\"/>\r\n     <use x=\"1145.308594\" xlink:href=\"#DejaVuSans-75\"/>\r\n     <use x=\"1208.6875\" xlink:href=\"#DejaVuSans-70\"/>\r\n    </g>\r\n   </g>\r\n  </g>\r\n </g>\r\n <defs>\r\n  <clipPath id=\"p80fc677e19\">\r\n   <rect height=\"326.16\" width=\"446.4\" x=\"73.79\" y=\"39.965375\"/>\r\n  </clipPath>\r\n </defs>\r\n</svg>\r\n",
            "image/png": "[encoded data removed]"
          },
          "metadata": {}
        }
      ]
    },
    {
      "cell_type": "code",
      "metadata": {
        "colab": {
          "base_uri": "https://localhost:8080/"
        },
        "id": "3SJ2HsmYEm4M",
        "outputId": "f9f481d7-f3c9-49dc-c75a-ea6a5bd12fec"
      },
      "source": [
        "#以函數計算z_stat, pval, confidence interval\n",
        "from statsmodels.stats.proportion import proportions_ztest, proportion_confint\n",
        "control_results = ab_test[ab_test['group'] == 'control']['converted']\n",
        "treatment_results = ab_test[ab_test['group'] == 'treatment']['converted']\n",
        "n_con = control_results.count()\n",
        "n_treat = treatment_results.count()\n",
        "successes = [control_results.sum(), treatment_results.sum()]\n",
        "nobs = [n_con, n_treat]\n",
        "\n",
        "z_stat, pval = proportions_ztest(successes, nobs=nobs)\n",
        "(lower_con, lower_treat), (upper_con, upper_treat) = proportion_confint(successes, nobs=nobs, alpha=0.05)\n",
        "\n",
        "print(f'z statistic: {z_stat:.2f}')\n",
        "print(f'p-value: {pval:.3f}')\n",
        "print(f'ci 95% for control group: [{lower_con:.3f}, {upper_con:.3f}]')\n",
        "print(f'ci 95% for treatment group: [{lower_treat:.3f}, {upper_treat:.3f}]')\n",
        "#判讀統計結果"
      ],
      "execution_count": 26,
      "outputs": [
        {
          "output_type": "stream",
          "name": "stdout",
          "text": [
            "z statistic: -0.34\np-value: 0.732\nci 95% for control group: [0.114, 0.133]\nci 95% for treatment group: [0.116, 0.135]\n"
          ]
        }
      ]
    },
    {
      "cell_type": "markdown",
      "metadata": {
        "id": "ckQFAPewwRJL"
      },
      "source": [
        "# 作業：判讀程式最後統計結果，A/B test 是否顯著\n",
        "\n",
        "z statistic: -0.34\n",
        "\n",
        "p-value: 0.732\n",
        "\n",
        "ci 95% for control group: [0.114, 0.133]\n",
        "\n",
        "ci 95% for treatment group: [0.116, 0.135]"
      ]
    },
    {
      "source": [
        "(0.13, 0.15)\n",
        "\n",
        "在Alpha=0.05的情況下，Z>1.96 或 <-1.96 方代表顯著\n",
        "\n",
        "同時 p 也應小於 0.05\n",
        "\n",
        "因此判斷不顯著"
      ],
      "cell_type": "markdown",
      "metadata": {}
    },
    {
      "cell_type": "markdown",
      "metadata": {
        "id": "25S0aik5wjew"
      },
      "source": [
        "# 作業：試以(0.12, 0.11)計算結果是否顯著\n"
      ]
    },
    {
      "source": [
        "z statistic: 0.07\n",
        "\n",
        "p-value: 0.945\n",
        "\n",
        "ci 95% for control group: [0.116, 0.126]\n",
        "\n",
        "ci 95% for treatment group: [0.116, 0.126]\n",
        "\n",
        "z 沒有超過正負1.96\n",
        "\n",
        "p 大於 aplha 0.05\n",
        "\n",
        "信賴區間說明 control group 在區間內 0.12 可信\n",
        "\n",
        "treatment group在區間外，0.11 數字不可信"
      ],
      "cell_type": "markdown",
      "metadata": {}
    },
    {
      "cell_type": "markdown",
      "metadata": {
        "id": "Sjbijdxtw_3N"
      },
      "source": [
        "# 作業：樣本數是以那些模組/函數算的"
      ]
    },
    {
      "cell_type": "code",
      "execution_count": 27,
      "metadata": {},
      "outputs": [
        {
          "output_type": "stream",
          "name": "stdout",
          "text": [
            "4720\n"
          ]
        }
      ],
      "source": [
        "#求樣本大小\n",
        "effect_size = sms.proportion_effectsize(0.13, 0.15)    # Calculating effect size based on our expected rates\n",
        "\n",
        "required_n = sms.NormalIndPower().solve_power(\n",
        "    effect_size, \n",
        "    power=0.8, \n",
        "    alpha=0.05, \n",
        "    ratio=1\n",
        "    )                                                  # Calculating sample size needed\n",
        "\n",
        "required_n = ceil(required_n)                          # Rounding up to next whole number                          \n",
        "\n",
        "print(required_n)"
      ]
    },
    {
      "cell_type": "code",
      "execution_count": null,
      "metadata": {},
      "outputs": [],
      "source": []
    }
  ]
}